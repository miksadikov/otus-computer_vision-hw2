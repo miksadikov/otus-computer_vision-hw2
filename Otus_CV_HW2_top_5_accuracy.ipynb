{
  "nbformat": 4,
  "nbformat_minor": 0,
  "metadata": {
    "colab": {
      "provenance": []
    },
    "hide_input": false,
    "kernelspec": {
      "display_name": "Python 3",
      "language": "python",
      "name": "python3"
    },
    "language_info": {
      "codemirror_mode": {
        "name": "ipython",
        "version": 3
      },
      "file_extension": ".py",
      "mimetype": "text/x-python",
      "name": "python",
      "nbconvert_exporter": "python",
      "pygments_lexer": "ipython3",
      "version": "3.6.12"
    },
    "toc": {
      "base_numbering": 1,
      "nav_menu": {},
      "number_sections": true,
      "sideBar": true,
      "skip_h1_title": false,
      "title_cell": "Table of Contents",
      "title_sidebar": "Contents",
      "toc_cell": false,
      "toc_position": {},
      "toc_section_display": true,
      "toc_window_display": false
    },
    "accelerator": "GPU",
    "gpuClass": "standard"
  },
  "cells": [
    {
      "cell_type": "markdown",
      "metadata": {
        "id": "4GHEqOXDSUDi"
      },
      "source": [
        "## Задание\n",
        "\n",
        "Построить график accuracy top 5 для различных моделей из Keras на примере датасета [imagenette](https://github.com/fastai/imagenette). \n"
      ]
    },
    {
      "cell_type": "code",
      "metadata": {
        "ExecuteTime": {
          "end_time": "2021-05-14T15:20:59.119719Z",
          "start_time": "2021-05-14T15:20:58.744916Z"
        },
        "id": "RMdUhzrNSUDp"
      },
      "source": [
        "import numpy as np\n",
        "import os\n",
        "from pathlib import Path\n",
        "import tensorflow as tf\n",
        "from statistics import mean\n",
        "import matplotlib.pyplot as plt"
      ],
      "execution_count": null,
      "outputs": []
    },
    {
      "cell_type": "code",
      "metadata": {
        "ExecuteTime": {
          "end_time": "2021-05-14T15:21:08.669064Z",
          "start_time": "2021-05-14T15:20:59.840587Z"
        },
        "id": "-8VFF2kySUDr"
      },
      "source": [
        "from tensorflow.keras.applications import vgg16, inception_v3, resnet50, mobilenet, efficientnet\n",
        "from tensorflow.keras.applications import imagenet_utils"
      ],
      "execution_count": null,
      "outputs": []
    },
    {
      "cell_type": "code",
      "metadata": {
        "ExecuteTime": {
          "end_time": "2021-05-14T15:21:08.690307Z",
          "start_time": "2021-05-14T15:21:08.674432Z"
        },
        "id": "fLWq-o2WSUDr"
      },
      "source": [
        "# Набор вспомогательных методов\n",
        "\n",
        "def get_model(model_name):\n",
        "    if model_name == 'vgg16':\n",
        "        model = vgg16.VGG16(weights='imagenet')\n",
        "    elif model_name == 'inception_v3':\n",
        "        model = inception_v3.InceptionV3(weights='imagenet')\n",
        "    elif model_name == 'resnet50':\n",
        "        model = resnet50.ResNet50(weights='imagenet')\n",
        "    elif model_name == 'mobilenet':\n",
        "        model = mobilenet.MobileNet(weights='imagenet')\n",
        "    elif model_name == 'efficientnet':\n",
        "        model = efficientnet.EfficientNetB6(weights='imagenet')\n",
        "    return model\n",
        "\n",
        "def get_helper_module(model_name):\n",
        "    if model_name == 'vgg16':\n",
        "        return vgg16\n",
        "    elif model_name == 'inception_v3':\n",
        "        return inception_v3\n",
        "    elif model_name == 'resnet50':\n",
        "        return resnet50\n",
        "    elif model_name == 'mobilenet':\n",
        "        return mobilenet\n",
        "    elif model_name == 'efficientnet':\n",
        "        return efficientnet"
      ],
      "execution_count": null,
      "outputs": []
    },
    {
      "cell_type": "code",
      "source": [
        "dataset_path = \"imagenette2\"\n",
        "if not os.path.exists(dataset_path):\n",
        "    !wget https://s3.amazonaws.com/fast-ai-imageclas/imagenette2.tgz\n",
        "    !tar -xzf imagenette2.tgz"
      ],
      "metadata": {
        "id": "mVUu0Mm3J567",
        "colab": {
          "base_uri": "https://localhost:8080/"
        },
        "outputId": "fbe7ff0b-ebc5-44c4-a5c5-1e36834cdcb2"
      },
      "execution_count": null,
      "outputs": [
        {
          "output_type": "stream",
          "name": "stdout",
          "text": [
            "--2022-11-19 13:27:36--  https://s3.amazonaws.com/fast-ai-imageclas/imagenette2.tgz\n",
            "Resolving s3.amazonaws.com (s3.amazonaws.com)... 52.217.191.8, 52.216.170.61, 52.217.162.8, ...\n",
            "Connecting to s3.amazonaws.com (s3.amazonaws.com)|52.217.191.8|:443... connected.\n",
            "HTTP request sent, awaiting response... 200 OK\n",
            "Length: 1557161267 (1.5G) [application/x-tar]\n",
            "Saving to: ‘imagenette2.tgz’\n",
            "\n",
            "imagenette2.tgz     100%[===================>]   1.45G  12.5MB/s    in 2m 3s   \n",
            "\n",
            "2022-11-19 13:29:40 (12.1 MB/s) - ‘imagenette2.tgz’ saved [1557161267/1557161267]\n",
            "\n"
          ]
        }
      ]
    },
    {
      "cell_type": "markdown",
      "metadata": {
        "id": "5RPnQA9WSUDt"
      },
      "source": [
        "Подгружаем датасет"
      ]
    },
    {
      "cell_type": "code",
      "metadata": {
        "ExecuteTime": {
          "end_time": "2021-05-14T15:21:28.065365Z",
          "start_time": "2021-05-14T15:21:28.061750Z"
        },
        "id": "nRjxTJFKSUDu"
      },
      "source": [
        "from tensorflow.keras.preprocessing.image import ImageDataGenerator\n",
        "dir_path = Path('/content/imagenette2/val/')"
      ],
      "execution_count": null,
      "outputs": []
    },
    {
      "cell_type": "markdown",
      "source": [
        "Ф-ция top 5 accuracy:"
      ],
      "metadata": {
        "id": "iFWcGLxgFw8H"
      }
    },
    {
      "cell_type": "code",
      "source": [
        "def top_k_accuracy(y_pred, y_true, k):\n",
        "  true = 0\n",
        "  for idx in range(len(y_true)):    \n",
        "    if y_true[idx] in y_pred[idx][:k]:\n",
        "      true += 1  \n",
        "  return (true / len(y_true))"
      ],
      "metadata": {
        "id": "qEkFb7bv3lvx"
      },
      "execution_count": null,
      "outputs": []
    },
    {
      "cell_type": "markdown",
      "source": [
        "В цикле проходимся по всем моделям из списка и вычисляем top 5 accuracy"
      ],
      "metadata": {
        "id": "SnN3LzE6F5um"
      }
    },
    {
      "cell_type": "code",
      "metadata": {
        "ExecuteTime": {
          "end_time": "2021-05-14T15:21:34.392943Z",
          "start_time": "2021-05-14T15:21:34.390828Z"
        },
        "id": "hzi5HVxNSUDv",
        "colab": {
          "base_uri": "https://localhost:8080/"
        },
        "outputId": "8726e169-476b-4405-914f-7a3033826ae0"
      },
      "source": [
        "MODELS_NAMES = ['inception_v3', 'resnet50', 'vgg16', 'mobilenet', 'efficientnet']\n",
        "top_k_acc_model = []\n",
        "model_params = []\n",
        "\n",
        "for name in MODELS_NAMES:\n",
        "  top_k_acc = []\n",
        "  model = get_model(name)\n",
        "  helper_module = get_helper_module(name)\n",
        "  print(name + ':')\n",
        "\n",
        "  valid_datagen = ImageDataGenerator(preprocessing_function=helper_module.preprocess_input)\n",
        "  valid_gen = valid_datagen.flow_from_directory(\n",
        "    dir_path,\n",
        "    shuffle=True, seed=42, \n",
        "    target_size=model.input_shape[1:-1],\n",
        "    batch_size=64\n",
        "  )  \n",
        "  \n",
        "  count = 1\n",
        "  for batch_x, batch_y in valid_gen:\n",
        "    preds = model.predict(batch_x, steps=1, verbose=0)\n",
        "    preds_decoded = helper_module.decode_predictions(preds, top=5)\n",
        "    preds_decoded = np.array(preds_decoded)\n",
        "    preds_decoded.shape\n",
        "\n",
        "    y_true_indexs = np.where(batch_y == 1)[1]\n",
        "    y_true_labels = []\n",
        "    for idx in y_true_indexs:\n",
        "      y_true_labels.append(list(valid_gen.class_indices.items())[idx][0])\n",
        "\n",
        "    top_k_acc.append(top_k_accuracy(preds_decoded, y_true_labels, 5))\n",
        "\n",
        "    count += 1\n",
        "    if count > valid_gen.__len__():\n",
        "      break\n",
        "    \n",
        "  model_params.append(model.count_params())\n",
        "  top_k_acc_model.append(mean(top_k_acc))\n",
        "\n",
        "m_idx = 0\n",
        "for name in MODELS_NAMES:\n",
        "  print('model: ' + name + ', top 5 accuracy: ' + str(top_k_acc_model[m_idx]))\n",
        "  m_idx += 1 \n"
      ],
      "execution_count": null,
      "outputs": [
        {
          "output_type": "stream",
          "name": "stdout",
          "text": [
            "inception_v3:\n",
            "Found 3925 images belonging to 10 classes.\n",
            "resnet50:\n",
            "Found 3925 images belonging to 10 classes.\n",
            "vgg16:\n",
            "Found 3925 images belonging to 10 classes.\n",
            "mobilenet:\n",
            "Found 3925 images belonging to 10 classes.\n",
            "efficientnet:\n",
            "Found 3925 images belonging to 10 classes.\n",
            "model: inception_v3, top 5 accuracy: 0.9879032258064516\n",
            "model: resnet50, top 5 accuracy: 0.9601814516129032\n",
            "model: vgg16, top 5 accuracy: 0.920098886328725\n",
            "model: mobilenet, top 5 accuracy: 0.9810987903225806\n",
            "model: efficientnet, top 5 accuracy: 0.9977318548387096\n"
          ]
        }
      ]
    },
    {
      "cell_type": "markdown",
      "source": [
        "Строим график точности моделей от числа ее параметров"
      ],
      "metadata": {
        "id": "j_ykVIztIAg6"
      }
    },
    {
      "cell_type": "code",
      "source": [
        "fig = plt.figure()\n",
        "plt.scatter(model_params, top_k_acc_model)\n",
        "for i, txt in enumerate(MODELS_NAMES):\n",
        "  plt.text(model_params[i], top_k_acc_model[i], txt)\n",
        "plt.show()"
      ],
      "metadata": {
        "colab": {
          "base_uri": "https://localhost:8080/",
          "height": 278
        },
        "id": "lIiUQNBxIbNX",
        "outputId": "20a1edcf-7659-4973-e646-67cea90f9562"
      },
      "execution_count": null,
      "outputs": [
        {
          "output_type": "display_data",
          "data": {
            "text/plain": [
              "<Figure size 432x288 with 1 Axes>"
            ],
            "image/png": "[encoded data removed]"
          },
          "metadata": {
            "needs_background": "light"
          }
        }
      ]
    }
  ]
}